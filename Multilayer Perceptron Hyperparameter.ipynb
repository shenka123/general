{
 "cells": [
  {
   "cell_type": "markdown",
   "metadata": {},
   "source": [
    "## Prediksi Saham PT Astra Internasional Tbk dengan model Multilayer Perceptron\n",
    "\n",
    "### Tugas 1  \n",
    "\n",
    "Benediktus Sashenka   \n",
    "10117080"
   ]
  },
  {
   "cell_type": "code",
   "execution_count": 1,
   "metadata": {},
   "outputs": [],
   "source": [
    "import numpy as np\n",
    "import pandas as pd\n",
    "import datetime as dt\n",
    "from matplotlib import pyplot as plt"
   ]
  },
  {
   "cell_type": "code",
   "execution_count": 2,
   "metadata": {},
   "outputs": [],
   "source": [
    "# Definisikan kelas sehingga lebih mudah diakses\n",
    "        \n",
    "class data():\n",
    "    \n",
    "    def __init__(self, X, Y):\n",
    "        self.X = X\n",
    "        self.Y = Y\n",
    "\n",
    "class train_parameters():\n",
    "    \n",
    "    def __init__(self, hlayers_neuron, num_iterations, learning_rate):\n",
    "        self.layers = len(hlayers_neuron) + 2\n",
    "        \n",
    "        self.neurons = np.append(np.append([1], hlayers_neuron),[1])\n",
    "        \n",
    "        self.iter = num_iterations\n",
    "        self.alp  = learning_rate"
   ]
  },
  {
   "cell_type": "code",
   "execution_count": 4,
   "metadata": {},
   "outputs": [],
   "source": [
    "# Fungsi konversi data menjadi pada selang (0,1)\n",
    "\n",
    "norm = lambda X: (X - min(X))/(max(X) - min(X))\n",
    "\n",
    "# Fungsi aktivasi sigmoid dan turunannya\n",
    "\n",
    "sg  = lambda Z: 1/(1 + np.exp(-Z))\n",
    "dsg = lambda A: A*(1 - A)\n",
    "\n",
    "# Fungsi prediksi plot\n",
    "\n",
    "def prediction_plot(Y, Y_predict):\n",
    "    plt.plot(Y, label = 'actual series')\n",
    "    plt.plot(Y_predict, label = 'predicted series')\n",
    "    plt.legend()\n",
    "    plt.show()"
   ]
  },
  {
   "cell_type": "code",
   "execution_count": 7,
   "metadata": {},
   "outputs": [],
   "source": [
    "# Data saham PT Astra Internasional Tbk sejak 19 Februari 2016 \n",
    "# Ekstrak data 'Adj Close' dan ambil 1000 observasi terakhir, 800 data training dan 200 data testing\n",
    "# Dalam model prediksi menggunakan 1 data sebelumnya, sehingga indeks X = Y-1\n",
    "\n",
    "dataset_raw = pd.read_csv('ASII_10117080.csv')\n",
    "dataset_raw['Adj Close'].fillna(dataset_raw['Adj Close'].mean(), inplace=True)\n",
    "dataset = norm(np.array(dataset_raw['Adj Close']))\n",
    "\n",
    "n_train = 800\n",
    "n_test  = 200\n",
    "\n",
    "X_train    = dataset[-(n_train+n_test+1):-(n_test+1)].reshape(n_train, 1)\n",
    "Y_train    = dataset[-(n_train+n_test):-n_test].reshape(n_train, 1)\n",
    "train_data = data(X_train, Y_train)\n",
    "\n",
    "X_test    = dataset[-(n_test+1):-1].reshape(n_test, 1)\n",
    "Y_test    = dataset[-n_test:].reshape(n_test, 1)\n",
    "test_data = data(X_test, Y_test)"
   ]
  },
  {
   "cell_type": "code",
   "execution_count": 5,
   "metadata": {},
   "outputs": [],
   "source": [
    "# Fungsi forward propagation\n",
    "\n",
    "def forward(W, b, X, Y, lay):\n",
    "    \n",
    "    A, Z = [X], [[]]  \n",
    "    for i in range(1, lay):\n",
    "        Zi = A[i-1]@W[i-1] + b[i-1]\n",
    "        Ai = sg(Zi)\n",
    "        Z.append(Zi)  \n",
    "        A.append(Ai)\n",
    "    \n",
    "    Yp   = A[-1]\n",
    "    e    = Y - Yp\n",
    "    cost = sum(e.T@e / len(X))\n",
    "    \n",
    "    return A, e, cost[0]\n",
    "\n",
    "# Fungsi backward propagation\n",
    "\n",
    "def backward(A, e, W, X, lay):\n",
    "    \n",
    "    N    = len(X)\n",
    "    iota = np.ones(N)\n",
    "    dA   = [-2*e / N]\n",
    "    dZ   = [dA * dsg(A[-1])]\n",
    "    dW   = []\n",
    "    db   = []\n",
    "    for i in range(lay-2, -1, -1):\n",
    "        dAi = dZ[-1] @ W[i].T\n",
    "        dZi = dAi * dsg(A[i])\n",
    "        dWi = A[i].T @ dZ[-1]\n",
    "        dbi = iota   @ dZ[-1]\n",
    "        dA.append(dAi)\n",
    "        dZ.append(dZi)\n",
    "        dW.append(dWi)\n",
    "        db.append(dbi)\n",
    "    \n",
    "    dW.reverse()\n",
    "    db.reverse()\n",
    "    \n",
    "    return dW, db\n",
    "\n",
    "# Fungsi untuk training model\n",
    "\n",
    "def training(W, b, X_train, Y_train, train_param):\n",
    "    \n",
    "    N = len(X_train)\n",
    "    k = train_param.layers\n",
    "    \n",
    "    # Forward and backward propagation\n",
    "    \n",
    "    A, e, cost = forward(W, b, X_train, Y_train, train_param.layers)\n",
    "    dW, db     = backward(A, e, W, X_train, train_param.layers)\n",
    "    \n",
    "    # Updating parameter\n",
    "    \n",
    "    for i in range(0, k-1):\n",
    "        W[i] -= train_param.alp * dW[i][0]\n",
    "        b[i] -= train_param.alp * db[i][0]\n",
    "        \n",
    "    return W, b, A[-1], cost"
   ]
  },
  {
   "cell_type": "code",
   "execution_count": 6,
   "metadata": {},
   "outputs": [],
   "source": [
    "class MLP():\n",
    "    \n",
    "    def __init__(self, train_data, test_data, train_param): \n",
    "        \n",
    "        self.train  = train_data\n",
    "        self.test   = test_data\n",
    "        self.tp     = train_param\n",
    "        \n",
    "        # Inisiasi parameter w dan b\n",
    "    \n",
    "        np.random.seed(20210219)\n",
    "        W, b = [], []\n",
    "        for i in range(self.tp.layers - 1):\n",
    "            W.append(np.random.randn(self.tp.neurons[i], self.tp.neurons[i+1]))\n",
    "            b.append(np.random.randn(self.tp.neurons[i+1]))\n",
    "        \n",
    "        # Dimulai iterasi training\n",
    "        \n",
    "        tic = dt.datetime.now()\n",
    "        \n",
    "        print('--- Training dimulai ---')\n",
    "        for i in range(train_param.iter):\n",
    "            W, b, Yp, cost = training(W, b, self.train.X, self.train.Y, self.tp)\n",
    "            if (i+1) % (self.tp.iter//10) == 0:\n",
    "                print('Cost function iterasi ke', i+1, '=', cost)\n",
    "            \n",
    "        print('--- Training selesai ---\\n')\n",
    "        \n",
    "        toc = dt.datetime.now()\n",
    "        \n",
    "        self.Yp   = Yp\n",
    "        self.MSE0 = cost\n",
    "        self.time = toc - tic\n",
    "        \n",
    "        # Testing\n",
    "        \n",
    "        A, e, self.MSE1 = forward(W, b, X_test, Y_test, self.tp.layers)\n",
    "        self.Ytp  = A[-1]\n",
    "        \n",
    "    # Informasi training dan plot prediksi\n",
    "        \n",
    "    def info(self):\n",
    "        print('Hidden layer   :', self.tp.layers-2)\n",
    "        print('Banyak Neuron  :', self.tp.neurons[1:-1])\n",
    "        print('Banyak iterasi :', self.tp.iter)\n",
    "        print('Learning rate  :', self.tp.alp)\n",
    "        print('Waktu training :', self.time)\n",
    "        print('MSE training   :', self.MSE0)\n",
    "        print('MSE testing    :', self.MSE1)\n",
    "        print()\n",
    "    \n",
    "    def plot_training(self):\n",
    "        prediction_plot(self.train.Y, self.Yp)\n",
    "        \n",
    "    def plot_testing(self):\n",
    "        prediction_plot(self.test.Y, self.Ytp)"
   ]
  },
  {
   "cell_type": "code",
   "execution_count": 8,
   "metadata": {},
   "outputs": [],
   "source": [
    "# Parameter yang akan digunakan dalam model training\n",
    "\n",
    "hlayers_neuron = np.array([3, 6])\n",
    "num_iterations = 10000\n",
    "learning_rate  = 10\n",
    "train_param    = train_parameters(hlayers_neuron, num_iterations, learning_rate)"
   ]
  },
  {
   "cell_type": "code",
   "execution_count": 9,
   "metadata": {},
   "outputs": [
    {
     "name": "stdout",
     "output_type": "stream",
     "text": [
      "--- Training dimulai ---\n",
      "Cost function iterasi ke 1000 = 0.0018320629833905708\n",
      "Cost function iterasi ke 2000 = 0.0010763303516905312\n",
      "Cost function iterasi ke 3000 = 0.0008065333919226917\n",
      "Cost function iterasi ke 4000 = 0.0006873947384571232\n",
      "Cost function iterasi ke 5000 = 0.0006334696506787839\n",
      "Cost function iterasi ke 6000 = 0.000608019695534772\n",
      "Cost function iterasi ke 7000 = 0.0005966177361411791\n",
      "Cost function iterasi ke 8000 = 0.0005923930532918747\n",
      "Cost function iterasi ke 9000 = 0.0005899564093306654\n",
      "Cost function iterasi ke 10000 = 0.0005882519563045297\n",
      "--- Training selesai ---\n",
      "\n",
      "Hidden layer   : 2\n",
      "Banyak Neuron  : [3 6]\n",
      "Banyak iterasi : 10000\n",
      "Learning rate  : 10\n",
      "Waktu training : 0:00:02.532430\n",
      "MSE training   : 0.0005882519563045297\n",
      "MSE testing    : 0.0008198751710234606\n",
      "\n"
     ]
    },
    {
     "data": {
      "image/png": "[encoded data removed]",
      "text/plain": [
       "<Figure size 432x288 with 1 Axes>"
      ]
     },
     "metadata": {
      "needs_background": "light"
     },
     "output_type": "display_data"
    },
    {
     "data": {
      "image/png": "[encoded data removed]",
      "text/plain": [
       "<Figure size 432x288 with 1 Axes>"
      ]
     },
     "metadata": {
      "needs_background": "light"
     },
     "output_type": "display_data"
    }
   ],
   "source": [
    "# Eksekusi model\n",
    "\n",
    "model = MLP(train_data, test_data, train_param)\n",
    "model.info()\n",
    "model.plot_training()\n",
    "model.plot_testing()"
   ]
  }
 ],
 "metadata": {
  "kernelspec": {
   "display_name": "Python 3",
   "language": "python",
   "name": "python3"
  },
  "language_info": {
   "codemirror_mode": {
    "name": "ipython",
    "version": 3
   },
   "file_extension": ".py",
   "mimetype": "text/x-python",
   "name": "python",
   "nbconvert_exporter": "python",
   "pygments_lexer": "ipython3",
   "version": "3.8.5"
  }
 },
 "nbformat": 4,
 "nbformat_minor": 4
}
